{
 "cells": [
  {
   "cell_type": "markdown",
   "metadata": {},
   "source": [
    "# Kaggle Titanic Competition"
   ]
  },
  {
   "cell_type": "markdown",
   "metadata": {},
   "source": [
    "<br>"
   ]
  },
  {
   "cell_type": "code",
   "execution_count": 2,
   "metadata": {
    "collapsed": true
   },
   "outputs": [],
   "source": [
    "import pandas as pd\n",
    "import numpy as np\n",
    "import sklearn as skl\n",
    "import matplotlib.pyplot as plt\n",
    "np.set_printoptions(threshold=10)"
   ]
  },
  {
   "cell_type": "markdown",
   "metadata": {},
   "source": [
    "<br>"
   ]
  },
  {
   "cell_type": "markdown",
   "metadata": {},
   "source": [
    "### Data Preprocessing"
   ]
  },
  {
   "cell_type": "code",
   "execution_count": 3,
   "metadata": {
    "collapsed": false
   },
   "outputs": [
    {
     "name": "stdout",
     "output_type": "stream",
     "text": [
      "[['1' '0' '3' ..., '7.25' '' 'S']\n",
      " ['2' '1' '1' ..., '71.2833' 'C85' 'C']\n",
      " ['3' '1' '3' ..., '7.925' '' 'S']\n",
      " ..., \n",
      " ['889' '0' '3' ..., '23.45' '' 'S']\n",
      " ['890' '1' '1' ..., '30' 'C148' 'C']\n",
      " ['891' '0' '3' ..., '7.75' '' 'Q']]\n"
     ]
    }
   ],
   "source": [
    "import csv\n",
    "\n",
    "with open('train.csv', 'r') as f:\n",
    "    reader = csv.reader(f)\n",
    "    allData = list(reader)\n",
    "    \n",
    "allData = allData[1:]\n",
    "allNP = np.array(allData)\n",
    "print (allNP)"
   ]
  },
  {
   "cell_type": "markdown",
   "metadata": {},
   "source": [
    "Discard Names;\n",
    "Male = 0;\n",
    "Female = 1;\n",
    "Ticket and Cabin turned to numbers;\n",
    "<br>"
   ]
  },
  {
   "cell_type": "code",
   "execution_count": 4,
   "metadata": {
    "collapsed": false
   },
   "outputs": [],
   "source": [
    "\n",
    "y = allNP[:,1]\n",
    "y = np.array(list(map(int, y)))\n",
    "\n",
    "\n",
    "\n",
    "\n",
    "pClass = allNP[:,2]\n",
    "pClass = np.matrix(list(map(float, pClass)))\n",
    "pClass = (pClass - pClass.mean())/pClass.std()\n",
    "\n",
    "\n",
    "sex_str = allNP[:,4]\n",
    "#def sexF(sex_str):\n",
    "sex_bin = np.zeros_like(sex_str)\n",
    "#Convert to 0,1\n",
    "for val in range(len(sex_str)):\n",
    "    if sex_str[val] == \"male\":\n",
    "        sex_bin[val] = 0\n",
    "    elif sex_str[val] == \"female\":\n",
    "        sex_bin[val] = 1\n",
    "sex_bin = np.matrix(list(map(float, sex_bin)))\n",
    "        \n",
    "age = allNP[:,5]\n",
    "#def ageF(age):\n",
    "sumAge = 0\n",
    "tot = 0\n",
    "for i in range(len(age)):\n",
    "    if age[i] != \"\":\n",
    "        sumAge+= float(age[i])\n",
    "        tot+=1\n",
    "ageMean = sumAge/tot\n",
    "\n",
    "for i in range(len(age)):\n",
    "    #Use mean values for no val\n",
    "    if age[i] == \"\":\n",
    "        age[i] = str(ageMean)\n",
    "\n",
    "age = np.matrix(list(map(float, age)))\n",
    "age = (age - age.mean())/age.std()\n",
    "    #return age\n",
    "\n",
    "\n",
    "sibSp = allNP[:,6]\n",
    "sibSp = np.matrix(list(map(float, sibSp)))\n",
    "sibSp = (sibSp - sibSp.mean())/sibSp.std()\n",
    "\n",
    "\n",
    "parCh = allNP[:,7]\n",
    "parCh = np.matrix(list(map(int, parCh)))\n",
    "parCh = (parCh - parCh.mean())/parCh.std()\n",
    "\n",
    "\n",
    "ticket = allNP[:,8]\n",
    "#Convert to number using unicode values\n",
    "import string\n",
    "\n",
    "for word in range(len(ticket)):\n",
    "    ans = \"\"\n",
    "    for ch in ticket[word]:\n",
    "        if ch in string.ascii_letters:\n",
    "            ans += str((ord(ch)))\n",
    "        elif ch in string.digits:\n",
    "            ans +=(ch)\n",
    "    ticket[word] = ans\n",
    "\n",
    "ticket = np.matrix(list(map(float, ticket)))\n",
    "ticket = (ticket - ticket.mean())/ticket.std()\n",
    "\n",
    "        \n",
    "fare = allNP[:,9]\n",
    "fare = np.matrix(list(map(float, fare)))\n",
    "fare = (fare - fare.mean())/fare.std()\n",
    "\n",
    "cabin = allNP[:,10]\n",
    "# same as tickets\n",
    "for i in range(len(cabin)):\n",
    "    ans = \"\"\n",
    "    if cabin[i] != \"\":\n",
    "        for ch in cabin[i]:\n",
    "            if ch in string.ascii_letters:\n",
    "                ans += str((ord(ch)))\n",
    "            elif ch in string.digits:\n",
    "                ans +=(ch)\n",
    "    cabin[i] = ans\n",
    "    \n",
    "sumCab = 0\n",
    "tot = 0\n",
    "for i in range(len(cabin)):\n",
    "    if cabin[i] != \"\":\n",
    "        sumCab+= float(cabin[i])\n",
    "        tot+=1\n",
    "cabMean = sumCab/tot\n",
    "\n",
    "for i in range(len(cabin)):\n",
    "    if cabin[i] == \"\":\n",
    "        cabin [i] = cabMean\n",
    "        \n",
    "cabin = np.matrix(list(map(float, cabin)))\n",
    "cabin = (cabin - cabin.mean())/cabin.std()\n",
    "\n",
    "\n",
    "embark = allNP[:,11]\n",
    "\n",
    "for i in range(len(embark)):\n",
    "    if embark[i] != \"\":\n",
    "        embark[i] = ord(embark[i])\n",
    "        \n",
    "\n",
    "sumEmb = 0\n",
    "tot = 0\n",
    "for i in range(len(embark)):\n",
    "    if embark[i] != \"\":\n",
    "        sumEmb += float(embark[i])\n",
    "        tot +=1\n",
    "        \n",
    "embMean = sumEmb/tot\n",
    "for i in range(len(embark)):\n",
    "    if embark[i] == \"\":\n",
    "        embark[i] = embMean\n",
    "\n",
    "embark = np.matrix(list(map(float, embark)))\n",
    "embark = (embark - embark.mean())/embark.std()\n"
   ]
  },
  {
   "cell_type": "markdown",
   "metadata": {},
   "source": [
    "Do scaling Min-Max wise and Standardisation Wise"
   ]
  },
  {
   "cell_type": "markdown",
   "metadata": {
    "collapsed": false
   },
   "source": [
    "<br>"
   ]
  },
  {
   "cell_type": "markdown",
   "metadata": {},
   "source": [
    "#### Recombining Processed and Normalized Feature Vectors"
   ]
  },
  {
   "cell_type": "code",
   "execution_count": 5,
   "metadata": {
    "collapsed": false
   },
   "outputs": [
    {
     "data": {
      "text/plain": [
       "(891, 9)"
      ]
     },
     "execution_count": 5,
     "metadata": {},
     "output_type": "execute_result"
    }
   ],
   "source": [
    "X = np.concatenate((pClass,sex_bin,age,sibSp,parCh,ticket,fare,cabin,embark))\n",
    "X = np.array(X.T)\n",
    "#print(pClass.shape,sex_bin.shape,age.shape,sibSp.shape,parCh.shape,ticket.shape,fare.shape,cabin.shape,embark.shape)\n",
    "X.shape"
   ]
  },
  {
   "cell_type": "markdown",
   "metadata": {},
   "source": [
    "### Setting Up Machine Learning Using Scikit Learn"
   ]
  },
  {
   "cell_type": "markdown",
   "metadata": {},
   "source": [
    "Using SVM"
   ]
  },
  {
   "cell_type": "code",
   "execution_count": 6,
   "metadata": {
    "collapsed": false
   },
   "outputs": [
    {
     "data": {
      "text/plain": [
       "SVC(C=10, cache_size=200, class_weight=None, coef0=0.0,\n",
       "  decision_function_shape=None, degree=3, gamma='auto', kernel='rbf',\n",
       "  max_iter=-1, probability=False, random_state=None, shrinking=True,\n",
       "  tol=0.001, verbose=False)"
      ]
     },
     "execution_count": 6,
     "metadata": {},
     "output_type": "execute_result"
    }
   ],
   "source": [
    "from sklearn import svm\n",
    "clf = svm.SVC(C=10)\n",
    "clf.fit(X,y)"
   ]
  },
  {
   "cell_type": "markdown",
   "metadata": {},
   "source": [
    "Using Neural Net"
   ]
  },
  {
   "cell_type": "code",
   "execution_count": 7,
   "metadata": {
    "collapsed": false
   },
   "outputs": [],
   "source": [
    "# from sklearn import neural_network\n",
    "# clf = neural_network.MLPClassifier(solver='lbfgs', alpha=1e-5, hidden_layer_sizes=(10, 10), random_state=1, max_iter = 200)\n",
    "# clf.fit(X,y)"
   ]
  },
  {
   "cell_type": "code",
   "execution_count": 8,
   "metadata": {
    "collapsed": false
   },
   "outputs": [
    {
     "data": {
      "text/plain": [
       "0.84399551066217737"
      ]
     },
     "execution_count": 8,
     "metadata": {},
     "output_type": "execute_result"
    }
   ],
   "source": [
    "clf.score(X,y)"
   ]
  },
  {
   "cell_type": "markdown",
   "metadata": {},
   "source": [
    "<br>"
   ]
  },
  {
   "cell_type": "markdown",
   "metadata": {},
   "source": [
    "### Setting Up Test Data"
   ]
  },
  {
   "cell_type": "code",
   "execution_count": 9,
   "metadata": {
    "collapsed": false
   },
   "outputs": [
    {
     "name": "stdout",
     "output_type": "stream",
     "text": [
      "[['892' '3' 'Kelly, Mr. James' ..., '7.8292' '' 'Q']\n",
      " ['893' '3' 'Wilkes, Mrs. James (Ellen Needs)' ..., '7' '' 'S']\n",
      " ['894' '2' 'Myles, Mr. Thomas Francis' ..., '9.6875' '' 'Q']\n",
      " ..., \n",
      " ['1307' '3' 'Saether, Mr. Simon Sivertsen' ..., '7.25' '' 'S']\n",
      " ['1308' '3' 'Ware, Mr. Frederick' ..., '8.05' '' 'S']\n",
      " ['1309' '3' 'Peter, Master. Michael J' ..., '22.3583' '' 'C']]\n"
     ]
    }
   ],
   "source": [
    "with open('test.csv', 'r') as fi:\n",
    "    reader = csv.reader(fi)\n",
    "    allTestData = list(reader)\n",
    "    \n",
    "allTestData = allTestData[1:]\n",
    "allTestNP = np.array(allTestData)\n",
    "print (allTestNP)"
   ]
  },
  {
   "cell_type": "code",
   "execution_count": 10,
   "metadata": {
    "collapsed": false
   },
   "outputs": [],
   "source": [
    "\n",
    "pClasst = allTestNP[:,1]\n",
    "pClasst = np.matrix(list(map(float, pClasst)))\n",
    "pClasst = (pClasst - pClasst.mean())/pClasst.std()\n",
    "\n",
    "\n",
    "sex_strT = allTestNP[:,3]\n",
    "sex_binT = np.zeros_like(sex_strT)\n",
    "#Convert to 0,1\n",
    "for val in range(len(sex_strT)):\n",
    "    if sex_strT[val] == \"male\":\n",
    "        sex_binT[val] = 0\n",
    "    elif sex_strT[val] == \"female\":\n",
    "        sex_binT[val] = 1\n",
    "sex_binT = np.matrix(list(map(float, sex_binT)))\n",
    "        \n",
    "ageT = allTestNP[:,4]\n",
    "sumAge = 0\n",
    "tot = 0\n",
    "for i in range(len(ageT)):\n",
    "    if ageT[i] != \"\":\n",
    "        sumAge+= float(ageT[i])\n",
    "        tot+=1\n",
    "ageMean = sumAge/tot\n",
    "\n",
    "for i in range(len(ageT)):\n",
    "    #Use mean values for no val\n",
    "    if ageT[i] == \"\":\n",
    "        ageT[i] = str(ageMean)\n",
    "    \n",
    "ageT = np.matrix(list(map(float, ageT)))\n",
    "ageT = (ageT - ageT.mean())/ageT.std()\n",
    "\n",
    "\n",
    "sibSpt = allTestNP[:,5]\n",
    "sibSpt = np.matrix(list(map(float, sibSpt)))\n",
    "sibSpt = (sibSpt - sibSpt.mean())/sibSpt.std()\n",
    "\n",
    "\n",
    "parCht = allTestNP[:,6]\n",
    "parCht = np.matrix(list(map(int, parCht)))\n",
    "parCht = (parCht - parCht.mean())/parCht.std()\n",
    "\n",
    "\n",
    "tickett = allTestNP[:,7]\n",
    "#Convert to number using unicode values\n",
    "\n",
    "\n",
    "for word in range(len(tickett)):\n",
    "    ans = \"\"\n",
    "    for ch in tickett[word]:\n",
    "        if ch in string.ascii_letters:\n",
    "            ans += str((ord(ch)))\n",
    "        elif ch in string.digits:\n",
    "            ans +=(ch)\n",
    "    tickett[word] = ans\n",
    "\n",
    "tickett = np.matrix(list(map(float, tickett)))\n",
    "tickett = (tickett - tickett.mean())/tickett.std()\n",
    "\n",
    "        \n",
    "faret = allTestNP[:,8]\n",
    "for i in range(len(faret)):     #Fix Generalisation for non entries\n",
    "    if faret[i] == \"\":\n",
    "        faret[i] = 20\n",
    "        \n",
    "faret = np.matrix(list(map(float, faret)))\n",
    "faret = (faret - faret.mean())/faret.std()\n",
    "\n",
    "cabint = allTestNP[:,9]\n",
    "# same as tickets\n",
    "for i in range(len(cabint)):\n",
    "    ans = \"\"\n",
    "    if cabint[i] != \"\":\n",
    "        for ch in cabint[i]:\n",
    "            if ch in string.ascii_letters:\n",
    "                ans += str((ord(ch)))\n",
    "            elif ch in string.digits:\n",
    "                ans +=(ch)\n",
    "    cabint[i] = ans\n",
    "    \n",
    "sumCab = 0\n",
    "tot = 0\n",
    "for i in range(len(cabint)):\n",
    "    if cabint[i] != \"\":\n",
    "        sumCab+= float(cabint[i])\n",
    "        tot+=1\n",
    "cabMean = sumCab/tot\n",
    "\n",
    "for i in range(len(cabint)):\n",
    "    if cabint[i] == \"\":\n",
    "        cabint[i] = cabMean\n",
    "        \n",
    "cabint = np.matrix(list(map(float, cabint)))\n",
    "cabint = (cabint - cabint.mean())/cabint.std()\n",
    "\n",
    "\n",
    "embarkt = allTestNP[:,10]\n",
    "\n",
    "for i in range(len(embarkt)):\n",
    "    if embarkt[i] != \"\":\n",
    "        embarkt[i] = ord(embarkt[i])\n",
    "        \n",
    "\n",
    "sumEmb = 0\n",
    "tot = 0\n",
    "for i in range(len(embarkt)):\n",
    "    if embarkt[i] != \"\":\n",
    "        sumEmb += float(embarkt[i])\n",
    "        tot +=1\n",
    "        \n",
    "embMean = sumEmb/tot\n",
    "for i in range(len(embarkt)):\n",
    "    if embarkt[i] == \"\":\n",
    "        embarkt[i] = embMean\n",
    "\n",
    "embarkt = np.matrix(list(map(float, embarkt)))\n",
    "embarkt = (embarkt - embarkt.mean())/embarkt.std()\n"
   ]
  },
  {
   "cell_type": "code",
   "execution_count": 11,
   "metadata": {
    "collapsed": false
   },
   "outputs": [
    {
     "data": {
      "text/plain": [
       "(418, 9)"
      ]
     },
     "execution_count": 11,
     "metadata": {},
     "output_type": "execute_result"
    }
   ],
   "source": [
    "XTest = np.concatenate((pClasst,sex_binT,ageT,sibSpt,parCht,tickett,faret,cabint,embarkt))\n",
    "XTest = np.array(XTest.T)\n",
    "#print(pClass.shape,sex_bin.shape,age.shape,sibSp.shape,parCh.shape,ticket.shape,fare.shape,cabin.shape,embark.shape)\n",
    "XTest.shape"
   ]
  },
  {
   "cell_type": "markdown",
   "metadata": {},
   "source": [
    "### Predict!"
   ]
  },
  {
   "cell_type": "code",
   "execution_count": 12,
   "metadata": {
    "collapsed": false
   },
   "outputs": [
    {
     "name": "stdout",
     "output_type": "stream",
     "text": [
      "[0 1 0 ..., 1 0 0]\n"
     ]
    }
   ],
   "source": [
    "pred = clf.predict(XTest)\n",
    "print(pred)"
   ]
  },
  {
   "cell_type": "markdown",
   "metadata": {},
   "source": [
    "Add PassengerIDs Back"
   ]
  },
  {
   "cell_type": "code",
   "execution_count": 13,
   "metadata": {
    "collapsed": false
   },
   "outputs": [
    {
     "data": {
      "text/plain": [
       "numpy.ndarray"
      ]
     },
     "execution_count": 13,
     "metadata": {},
     "output_type": "execute_result"
    }
   ],
   "source": [
    "\n",
    "# ids = np.arange(892,892+len(pred))\n",
    "# #ids[891+len(pred)]\n",
    "\n",
    "# pred = np.matrix(pred)\n",
    "# ids = np.matrix(ids)\n",
    "# print (ids.shape,pred.shape)\n",
    "# out = np.concatenate((ids,pred))\n",
    "# out = out.T\n",
    "# #print (out)\n",
    "# out = np.array(out).astype(int)\n",
    "# print (out)\n",
    "\n",
    "# #out = np.array(list(map(int, out)))\n",
    "# print (out)\n",
    "type(pred)"
   ]
  },
  {
   "cell_type": "code",
   "execution_count": 14,
   "metadata": {
    "collapsed": false
   },
   "outputs": [],
   "source": [
    "# pred_file = open(\"pred.csv\", \"wb\")\n",
    "# open_file_object = csv.writer(pred_file)\n",
    "# #open_file_object.writerow([\"PassengerId\",\"Survived\"])\n",
    "# open_file_object.writerows(zip(out))\n",
    "# pred_file.close()\n",
    "\n",
    "# with open(\"resultTR.csv\", \"wb\") as f:\n",
    "#     f.write(b'PassengerId,Survived\\n')\n",
    "#     np.savetxt(f, out, fmt='%4.0f', delimiter=\",\")\n",
    "\n",
    "#np.savetxt(\"out.csv\",([ids.astype(int),pred.astype(int)]),fmt='%i',delimiter=',')\n",
    "\n",
    "\n",
    "testpd=pd.read_csv('test.csv')\n",
    "\n",
    "ids = testpd['PassengerId']\n",
    "#pred = c.predict(test.drop('PassengerId', axis=1))\n",
    "\n",
    "\n",
    "output = pd.DataFrame({ 'PassengerId' : ids, 'Survived': pred })\n",
    "output.to_csv('titanic-pred13.csv', index = False)\n",
    "\n",
    "\n",
    "\n",
    "\n",
    "\n",
    "# submission = pd.DataFrame({\n",
    "#         \"PassengerId\": ids.T,\n",
    "#         \"Survived\": pred.T\n",
    "#     })\n",
    "# submission.to_csv('titanic.csv', index=False)"
   ]
  }
 ],
 "metadata": {
  "anaconda-cloud": {},
  "kernelspec": {
   "display_name": "Python [conda root]",
   "language": "python",
   "name": "conda-root-py"
  },
  "language_info": {
   "codemirror_mode": {
    "name": "ipython",
    "version": 3
   },
   "file_extension": ".py",
   "mimetype": "text/x-python",
   "name": "python",
   "nbconvert_exporter": "python",
   "pygments_lexer": "ipython3",
   "version": "3.5.2"
  }
 },
 "nbformat": 4,
 "nbformat_minor": 1
}
